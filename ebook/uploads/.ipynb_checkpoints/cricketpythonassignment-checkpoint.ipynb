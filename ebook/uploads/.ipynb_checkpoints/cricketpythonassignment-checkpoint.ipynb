{
 "cells": [
  {
   "cell_type": "markdown",
   "id": "182d960f",
   "metadata": {},
   "source": [
    "# NAME : Hurais Adnan C\n",
    "# REG NO : 21MCA0010\n"
   ]
  },
  {
   "cell_type": "markdown",
   "id": "e1f824d9",
   "metadata": {},
   "source": [
    "# DATA VISUALIZATION MATPLOTLIB"
   ]
  },
  {
   "cell_type": "markdown",
   "id": "92d1d5a6",
   "metadata": {},
   "source": [
    "# IMPORTING LIBRARIES"
   ]
  },
  {
   "cell_type": "code",
   "execution_count": 2,
   "id": "ce3a6843",
   "metadata": {},
   "outputs": [],
   "source": [
    "import pandas as pd\n",
    "import numpy as np\n",
    "import matplotlib.pyplot as plt"
   ]
  },
  {
   "cell_type": "code",
   "execution_count": 3,
   "id": "95d60454",
   "metadata": {},
   "outputs": [
    {
     "data": {
      "text/html": [
       "<div>\n",
       "<style scoped>\n",
       "    .dataframe tbody tr th:only-of-type {\n",
       "        vertical-align: middle;\n",
       "    }\n",
       "\n",
       "    .dataframe tbody tr th {\n",
       "        vertical-align: top;\n",
       "    }\n",
       "\n",
       "    .dataframe thead th {\n",
       "        text-align: right;\n",
       "    }\n",
       "</style>\n",
       "<table border=\"1\" class=\"dataframe\">\n",
       "  <thead>\n",
       "    <tr style=\"text-align: right;\">\n",
       "      <th></th>\n",
       "      <th>Rank</th>\n",
       "      <th>Player</th>\n",
       "      <th>Country</th>\n",
       "      <th>Span</th>\n",
       "      <th>Matches</th>\n",
       "      <th>Innings</th>\n",
       "      <th>Balls</th>\n",
       "      <th>Runs</th>\n",
       "      <th>Wickets</th>\n",
       "      <th>Average</th>\n",
       "      <th>Econ</th>\n",
       "      <th>SR</th>\n",
       "      <th>5</th>\n",
       "      <th>10</th>\n",
       "    </tr>\n",
       "  </thead>\n",
       "  <tbody>\n",
       "    <tr>\n",
       "      <th>0</th>\n",
       "      <td>1</td>\n",
       "      <td>M Muralidaran</td>\n",
       "      <td>Sri Lanka</td>\n",
       "      <td>1992-2010</td>\n",
       "      <td>133</td>\n",
       "      <td>230</td>\n",
       "      <td>44039</td>\n",
       "      <td>18180</td>\n",
       "      <td>800</td>\n",
       "      <td>22.72</td>\n",
       "      <td>2.47</td>\n",
       "      <td>55.0</td>\n",
       "      <td>67</td>\n",
       "      <td>22</td>\n",
       "    </tr>\n",
       "    <tr>\n",
       "      <th>1</th>\n",
       "      <td>2</td>\n",
       "      <td>S Warne</td>\n",
       "      <td>Australia</td>\n",
       "      <td>1992-2007</td>\n",
       "      <td>145</td>\n",
       "      <td>273</td>\n",
       "      <td>40705</td>\n",
       "      <td>17995</td>\n",
       "      <td>708</td>\n",
       "      <td>25.41</td>\n",
       "      <td>2.65</td>\n",
       "      <td>57.4</td>\n",
       "      <td>37</td>\n",
       "      <td>10</td>\n",
       "    </tr>\n",
       "    <tr>\n",
       "      <th>2</th>\n",
       "      <td>3</td>\n",
       "      <td>JM Anderson</td>\n",
       "      <td>England</td>\n",
       "      <td>2003-2022</td>\n",
       "      <td>169</td>\n",
       "      <td>314</td>\n",
       "      <td>36396</td>\n",
       "      <td>17014</td>\n",
       "      <td>640</td>\n",
       "      <td>26.58</td>\n",
       "      <td>2.80</td>\n",
       "      <td>56.8</td>\n",
       "      <td>31</td>\n",
       "      <td>3</td>\n",
       "    </tr>\n",
       "    <tr>\n",
       "      <th>3</th>\n",
       "      <td>4</td>\n",
       "      <td>A Kumble</td>\n",
       "      <td>India</td>\n",
       "      <td>1990-2008</td>\n",
       "      <td>132</td>\n",
       "      <td>236</td>\n",
       "      <td>40850</td>\n",
       "      <td>18355</td>\n",
       "      <td>619</td>\n",
       "      <td>29.65</td>\n",
       "      <td>2.69</td>\n",
       "      <td>65.9</td>\n",
       "      <td>35</td>\n",
       "      <td>8</td>\n",
       "    </tr>\n",
       "    <tr>\n",
       "      <th>4</th>\n",
       "      <td>5</td>\n",
       "      <td>GD McGrath</td>\n",
       "      <td>Australia</td>\n",
       "      <td>1993-2007</td>\n",
       "      <td>124</td>\n",
       "      <td>243</td>\n",
       "      <td>29248</td>\n",
       "      <td>12186</td>\n",
       "      <td>563</td>\n",
       "      <td>21.64</td>\n",
       "      <td>2.49</td>\n",
       "      <td>51.9</td>\n",
       "      <td>29</td>\n",
       "      <td>3</td>\n",
       "    </tr>\n",
       "    <tr>\n",
       "      <th>...</th>\n",
       "      <td>...</td>\n",
       "      <td>...</td>\n",
       "      <td>...</td>\n",
       "      <td>...</td>\n",
       "      <td>...</td>\n",
       "      <td>...</td>\n",
       "      <td>...</td>\n",
       "      <td>...</td>\n",
       "      <td>...</td>\n",
       "      <td>...</td>\n",
       "      <td>...</td>\n",
       "      <td>...</td>\n",
       "      <td>...</td>\n",
       "      <td>...</td>\n",
       "    </tr>\n",
       "    <tr>\n",
       "      <th>75</th>\n",
       "      <td>76</td>\n",
       "      <td>SCG MacGill</td>\n",
       "      <td>Australia</td>\n",
       "      <td>1998-2008</td>\n",
       "      <td>44</td>\n",
       "      <td>85</td>\n",
       "      <td>11237</td>\n",
       "      <td>6038</td>\n",
       "      <td>208</td>\n",
       "      <td>29.02</td>\n",
       "      <td>3.22</td>\n",
       "      <td>54.0</td>\n",
       "      <td>12</td>\n",
       "      <td>2</td>\n",
       "    </tr>\n",
       "    <tr>\n",
       "      <th>76</th>\n",
       "      <td>77</td>\n",
       "      <td>Saqlain Mushtaq</td>\n",
       "      <td>Pakistan</td>\n",
       "      <td>1995-2004</td>\n",
       "      <td>49</td>\n",
       "      <td>86</td>\n",
       "      <td>14070</td>\n",
       "      <td>6206</td>\n",
       "      <td>208</td>\n",
       "      <td>29.83</td>\n",
       "      <td>2.64</td>\n",
       "      <td>67.6</td>\n",
       "      <td>13</td>\n",
       "      <td>3</td>\n",
       "    </tr>\n",
       "    <tr>\n",
       "      <th>77</th>\n",
       "      <td>78</td>\n",
       "      <td>AME Roberts</td>\n",
       "      <td>West Indies</td>\n",
       "      <td>1974-1983</td>\n",
       "      <td>47</td>\n",
       "      <td>90</td>\n",
       "      <td>11135</td>\n",
       "      <td>5174</td>\n",
       "      <td>202</td>\n",
       "      <td>25.61</td>\n",
       "      <td>2.78</td>\n",
       "      <td>55.1</td>\n",
       "      <td>11</td>\n",
       "      <td>2</td>\n",
       "    </tr>\n",
       "    <tr>\n",
       "      <th>78</th>\n",
       "      <td>79</td>\n",
       "      <td>JA Snow</td>\n",
       "      <td>England</td>\n",
       "      <td>1965-1976</td>\n",
       "      <td>49</td>\n",
       "      <td>93</td>\n",
       "      <td>12021</td>\n",
       "      <td>5387</td>\n",
       "      <td>202</td>\n",
       "      <td>26.66</td>\n",
       "      <td>2.68</td>\n",
       "      <td>59.5</td>\n",
       "      <td>8</td>\n",
       "      <td>1</td>\n",
       "    </tr>\n",
       "    <tr>\n",
       "      <th>79</th>\n",
       "      <td>80</td>\n",
       "      <td>JR Thomson</td>\n",
       "      <td>Australia</td>\n",
       "      <td>1972-1985</td>\n",
       "      <td>51</td>\n",
       "      <td>90</td>\n",
       "      <td>10535</td>\n",
       "      <td>5601</td>\n",
       "      <td>200</td>\n",
       "      <td>28.00</td>\n",
       "      <td>3.18</td>\n",
       "      <td>52.6</td>\n",
       "      <td>8</td>\n",
       "      <td>0</td>\n",
       "    </tr>\n",
       "  </tbody>\n",
       "</table>\n",
       "<p>80 rows × 14 columns</p>\n",
       "</div>"
      ],
      "text/plain": [
       "    Rank           Player      Country        Span   Matches  Innings   \\\n",
       "0       1   M Muralidaran    Sri Lanka    1992-2010      133       230   \n",
       "1       2          S Warne   Australia   1992-2007       145       273   \n",
       "2       3     JM Anderson      England   2003-2022       169       314   \n",
       "3       4        A Kumble        India   1990-2008       132       236   \n",
       "4       5       GD McGrath   Australia   1993-2007       124       243   \n",
       "..    ...              ...          ...         ...      ...       ...   \n",
       "75     76     SCG MacGill    Australia   1998-2008        44        85   \n",
       "76     77  Saqlain Mushtaq    Pakistan    1995-2004       49        86   \n",
       "77     78     AME Roberts   West Indies   1974-1983       47        90   \n",
       "78     79         JA Snow      England    1965-1976       49        93   \n",
       "79     80      JR Thomson    Australia    1972-1985       51        90   \n",
       "\n",
       "    Balls    Runs  Wickets   Average  Econ   SR    5  10  \n",
       "0    44039  18180       800    22.72  2.47  55.0  67  22  \n",
       "1    40705  17995       708    25.41  2.65  57.4  37  10  \n",
       "2    36396  17014       640    26.58  2.80  56.8  31   3  \n",
       "3    40850  18355       619    29.65  2.69  65.9  35   8  \n",
       "4    29248  12186       563    21.64  2.49  51.9  29   3  \n",
       "..     ...    ...       ...      ...   ...   ...  ..  ..  \n",
       "75   11237   6038       208    29.02  3.22  54.0  12   2  \n",
       "76   14070   6206       208    29.83  2.64  67.6  13   3  \n",
       "77   11135   5174       202    25.61  2.78  55.1  11   2  \n",
       "78   12021   5387       202    26.66  2.68  59.5   8   1  \n",
       "79   10535   5601       200    28.00  3.18  52.6   8   0  \n",
       "\n",
       "[80 rows x 14 columns]"
      ]
     },
     "execution_count": 3,
     "metadata": {},
     "output_type": "execute_result"
    }
   ],
   "source": [
    "data_cricket = pd.read_csv(r\"/Users/hurais/Downloads/Most Wickets in Test Cricket.csv\")\n",
    "data_cricket"
   ]
  },
  {
   "cell_type": "code",
   "execution_count": 4,
   "id": "86243c52",
   "metadata": {},
   "outputs": [
    {
     "name": "stdout",
     "output_type": "stream",
     "text": [
      "<class 'pandas.core.frame.DataFrame'>\n",
      "RangeIndex: 80 entries, 0 to 79\n",
      "Data columns (total 14 columns):\n",
      " #   Column    Non-Null Count  Dtype  \n",
      "---  ------    --------------  -----  \n",
      " 0   Rank      80 non-null     int64  \n",
      " 1   Player    80 non-null     object \n",
      " 2   Country   80 non-null     object \n",
      " 3   Span      80 non-null     object \n",
      " 4   Matches   80 non-null     int64  \n",
      " 5   Innings   80 non-null     int64  \n",
      " 6   Balls     80 non-null     int64  \n",
      " 7   Runs      80 non-null     int64  \n",
      " 8   Wickets   80 non-null     int64  \n",
      " 9   Average   80 non-null     float64\n",
      " 10  Econ      80 non-null     float64\n",
      " 11  SR        80 non-null     float64\n",
      " 12  5         80 non-null     int64  \n",
      " 13  10        80 non-null     int64  \n",
      "dtypes: float64(3), int64(8), object(3)\n",
      "memory usage: 8.9+ KB\n"
     ]
    }
   ],
   "source": [
    "data_cricket.info()"
   ]
  },
  {
   "cell_type": "markdown",
   "id": "3c7b2d4b",
   "metadata": {},
   "source": [
    "# 1. SCATTERPLOT"
   ]
  },
  {
   "cell_type": "code",
   "execution_count": null,
   "id": "8757de09",
   "metadata": {},
   "outputs": [],
   "source": []
  },
  {
   "cell_type": "code",
   "execution_count": 5,
   "id": "a23a780e",
   "metadata": {
    "scrolled": true
   },
   "outputs": [
    {
     "data": {
      "text/plain": [
       "Text(0, 0.5, 'Matches')"
      ]
     },
     "execution_count": 5,
     "metadata": {},
     "output_type": "execute_result"
    },
    {
     "data": {
      "image/png": "[encoded data removed]",
      "text/plain": [
       "<Figure size 432x288 with 1 Axes>"
      ]
     },
     "metadata": {
      "needs_background": "light"
     },
     "output_type": "display_data"
    }
   ],
   "source": [
    "plt.scatter(x ='Runs', y = 'Matches', data =data_cricket, c= 'g', s= 50)\n",
    "plt.scatter(x ='Runs', y = 'Matches', data =data_cricket, c= 'r',marker ='+')\n",
    "plt.legend(['Matches','Runs'],title = 'plot')\n",
    "plt.xlabel('Runs',fontsize = 14)\n",
    "plt.ylabel('Matches')"
   ]
  },
  {
   "cell_type": "markdown",
   "id": "55e48594",
   "metadata": {},
   "source": [
    "# 2.HISTROGRAM"
   ]
  },
  {
   "cell_type": "code",
   "execution_count": 6,
   "id": "1fd633fa",
   "metadata": {},
   "outputs": [
    {
     "data": {
      "text/plain": [
       "<AxesSubplot:ylabel='Frequency'>"
      ]
     },
     "execution_count": 6,
     "metadata": {},
     "output_type": "execute_result"
    },
    {
     "data": {
      "image/png": "[encoded data removed]",
      "text/plain": [
       "<Figure size 432x288 with 1 Axes>"
      ]
     },
     "metadata": {
      "needs_background": "light"
     },
     "output_type": "display_data"
    }
   ],
   "source": [
    "plt.figure()\n",
    "data_cricket.Runs.plot(kind = 'hist')"
   ]
  },
  {
   "cell_type": "markdown",
   "id": "e34167c1",
   "metadata": {},
   "source": [
    "# 3.BAR CHART"
   ]
  },
  {
   "cell_type": "code",
   "execution_count": 13,
   "id": "8b8af7f9",
   "metadata": {},
   "outputs": [
    {
     "ename": "NameError",
     "evalue": "name 'c' is not defined",
     "output_type": "error",
     "traceback": [
      "\u001b[0;31m---------------------------------------------------------------------------\u001b[0m",
      "\u001b[0;31mNameError\u001b[0m                                 Traceback (most recent call last)",
      "Input \u001b[0;32mIn [13]\u001b[0m, in \u001b[0;36m<cell line: 5>\u001b[0;34m()\u001b[0m\n\u001b[1;32m      3\u001b[0m plt\u001b[38;5;241m.\u001b[39mxlabel(\u001b[38;5;124m'\u001b[39m\u001b[38;5;124mRuns\u001b[39m\u001b[38;5;124m'\u001b[39m, fontsize\u001b[38;5;241m=\u001b[39m\u001b[38;5;241m18\u001b[39m)\n\u001b[1;32m      4\u001b[0m plt\u001b[38;5;241m.\u001b[39mylabel(\u001b[38;5;124m'\u001b[39m\u001b[38;5;124mMatches\u001b[39m\u001b[38;5;124m'\u001b[39m, fontsize\u001b[38;5;241m=\u001b[39m\u001b[38;5;241m16\u001b[39m)\n\u001b[0;32m----> 5\u001b[0m plt\u001b[38;5;241m.\u001b[39mbar(x,y,color\u001b[38;5;241m=\u001b[39m\u001b[43mc\u001b[49m)\n\u001b[1;32m      6\u001b[0m plt\u001b[38;5;241m.\u001b[39mshow()\n",
      "\u001b[0;31mNameError\u001b[0m: name 'c' is not defined"
     ]
    },
    {
     "data": {
      "image/png": "[encoded data removed]",
      "text/plain": [
       "<Figure size 432x288 with 1 Axes>"
      ]
     },
     "metadata": {
      "needs_background": "light"
     },
     "output_type": "display_data"
    }
   ],
   "source": [
    "x = data_cricket['Runs']\n",
    "y = data_cricket['Matches']\n",
    "plt.xlabel('Runs', fontsize=18)\n",
    "plt.ylabel('Matches', fontsize=16)\n",
    "plt.bar(x,y,color ='maroon)\n",
    "plt.show()"
   ]
  },
  {
   "cell_type": "markdown",
   "id": "1d1a1b41",
   "metadata": {},
   "source": [
    "# 4.Contour Plot"
   ]
  },
  {
   "cell_type": "code",
   "execution_count": 77,
   "id": "318334a9",
   "metadata": {},
   "outputs": [
    {
     "data": {
      "image/png": "[encoded data removed]",
      "text/plain": [
       "<Figure size 576x288 with 1 Axes>"
      ]
     },
     "metadata": {},
     "output_type": "display_data"
    }
   ],
   "source": [
    "a = data_cricket['Runs']\n",
    "b = data_cricket['Matches']\n",
    "\n",
    "a, b = np.meshgrid(a13, b13)\n",
    "\n",
    "ellipses = a*a/9 + b*b/4 - 1\n",
    "\n",
    "cs = plt.contour(ellipses)\n",
    "\n",
    "plt.clabel(cs)\n",
    "\n",
    "plt.show()"
   ]
  },
  {
   "cell_type": "markdown",
   "id": "54f67f58",
   "metadata": {},
   "source": [
    "# 5.IMAGE PLOT"
   ]
  },
  {
   "cell_type": "code",
   "execution_count": 1,
   "id": "02a5e044",
   "metadata": {
    "scrolled": true
   },
   "outputs": [
    {
     "ename": "NameError",
     "evalue": "name 'data_cricket' is not defined",
     "output_type": "error",
     "traceback": [
      "\u001b[0;31m---------------------------------------------------------------------------\u001b[0m",
      "\u001b[0;31mNameError\u001b[0m                                 Traceback (most recent call last)",
      "Input \u001b[0;32mIn [1]\u001b[0m, in \u001b[0;36m<cell line: 1>\u001b[0;34m()\u001b[0m\n\u001b[0;32m----> 1\u001b[0m x \u001b[38;5;241m=\u001b[39m \u001b[43mdata_cricket\u001b[49m[\u001b[38;5;124m'\u001b[39m\u001b[38;5;124mRuns\u001b[39m\u001b[38;5;124m'\u001b[39m]\n\u001b[1;32m      2\u001b[0m y \u001b[38;5;241m=\u001b[39m data_cricket[\u001b[38;5;124m'\u001b[39m\u001b[38;5;124mMatches\u001b[39m\u001b[38;5;124m'\u001b[39m]\n\u001b[1;32m      4\u001b[0m x, y \u001b[38;5;241m=\u001b[39m np\u001b[38;5;241m.\u001b[39mmeshgrid(x, y)\n",
      "\u001b[0;31mNameError\u001b[0m: name 'data_cricket' is not defined"
     ]
    }
   ],
   "source": [
    "x = data_cricket['Runs']\n",
    "y = data_cricket['Matches']\n",
    "\n",
    "x, y = np.meshgrid(x, y)\n",
    "\n",
    "ellipses = x*x/9 + y*y/4 - 1\n",
    "\n",
    "plt.imshow(ellipses);\n",
    "\n",
    "plt.colorbar();\n",
    "\n",
    "plt.show()\n"
   ]
  },
  {
   "cell_type": "code",
   "execution_count": null,
   "id": "efdaa13e",
   "metadata": {},
   "outputs": [],
   "source": []
  }
 ],
 "metadata": {
  "kernelspec": {
   "display_name": "Python 3 (ipykernel)",
   "language": "python",
   "name": "python3"
  },
  "language_info": {
   "codemirror_mode": {
    "name": "ipython",
    "version": 3
   },
   "file_extension": ".py",
   "mimetype": "text/x-python",
   "name": "python",
   "nbconvert_exporter": "python",
   "pygments_lexer": "ipython3",
   "version": "3.9.10"
  }
 },
 "nbformat": 4,
 "nbformat_minor": 5
}
